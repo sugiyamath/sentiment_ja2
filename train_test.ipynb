{
 "cells": [
  {
   "cell_type": "code",
   "execution_count": 1,
   "id": "bc2b2e1f",
   "metadata": {},
   "outputs": [],
   "source": [
    "import re\n",
    "import numpy as np\n",
    "import pandas as pd\n",
    "from sudachipy import tokenizer\n",
    "from sudachipy import dictionary\n",
    "from scipy.sparse import vstack as svstack\n",
    "from sklearn.linear_model import LogisticRegression\n",
    "from sklearn.feature_extraction.text import TfidfVectorizer\n",
    "from sklearn.model_selection import train_test_split\n",
    "from sklearn.metrics import classification_report\n",
    "tokenizer_obj = dictionary.Dictionary().create()\n",
    "mode = tokenizer.Tokenizer.SplitMode.C"
   ]
  },
  {
   "cell_type": "code",
   "execution_count": 2,
   "id": "9b058c47",
   "metadata": {},
   "outputs": [],
   "source": [
    "data = []\n",
    "regs = [r\"[@#].+? \", r\"http.+? \"]\n",
    "labels = list(zip(\"happy,sad,disgust,angry,surprise,fear\".split(\",\"), \"😊 😢 🤢 😠 😮 😨\".split(\" \")))\n",
    "with open(\"../tweets.txt\", \"r\") as f:\n",
    "    for line in f:\n",
    "        line = line.split(\"[:::]\")[0]\n",
    "        x = ' '.join(line.strip().split()[5:])+\" \"\n",
    "        for r in regs:\n",
    "            x = re.sub(r, ' ', x)\n",
    "        x = ' '.join([m.dictionary_form() for m in tokenizer_obj.tokenize(x, mode)]).strip()\n",
    "        y = {lab[0]: (lab[1] in x) for lab in labels}\n",
    "        for lab in labels:\n",
    "            x = x.replace(lab[1], \" \")\n",
    "        if \"😐\" not in x and not any(a for _, a in y.items()):\n",
    "            continue\n",
    "        y[\"text\"] = x\n",
    "        data.append(y)\n",
    "df = pd.DataFrame(data)\n",
    "del data\n",
    "#df.head()"
   ]
  },
  {
   "cell_type": "code",
   "execution_count": 3,
   "id": "20275732",
   "metadata": {},
   "outputs": [
    {
     "name": "stdout",
     "output_type": "stream",
     "text": [
      "              precision    recall  f1-score   support\n",
      "\n",
      "       False       0.79      0.80      0.79    112085\n",
      "        True       0.80      0.78      0.79    111253\n",
      "\n",
      "    accuracy                           0.79    223338\n",
      "   macro avg       0.79      0.79      0.79    223338\n",
      "weighted avg       0.79      0.79      0.79    223338\n",
      "\n",
      "              precision    recall  f1-score   support\n",
      "\n",
      "       False       0.76      0.78      0.77     23322\n",
      "        True       0.78      0.76      0.77     23509\n",
      "\n",
      "    accuracy                           0.77     46831\n",
      "   macro avg       0.77      0.77      0.77     46831\n",
      "weighted avg       0.77      0.77      0.77     46831\n",
      "\n",
      "              precision    recall  f1-score   support\n",
      "\n",
      "       False       0.76      0.73      0.75       720\n",
      "        True       0.74      0.77      0.76       723\n",
      "\n",
      "    accuracy                           0.75      1443\n",
      "   macro avg       0.75      0.75      0.75      1443\n",
      "weighted avg       0.75      0.75      0.75      1443\n",
      "\n",
      "              precision    recall  f1-score   support\n",
      "\n",
      "       False       0.83      0.80      0.81      1978\n",
      "        True       0.81      0.83      0.82      1986\n",
      "\n",
      "    accuracy                           0.82      3964\n",
      "   macro avg       0.82      0.82      0.82      3964\n",
      "weighted avg       0.82      0.82      0.82      3964\n",
      "\n",
      "              precision    recall  f1-score   support\n",
      "\n",
      "       False       0.74      0.66      0.70      2320\n",
      "        True       0.69      0.76      0.72      2291\n",
      "\n",
      "    accuracy                           0.71      4611\n",
      "   macro avg       0.71      0.71      0.71      4611\n",
      "weighted avg       0.71      0.71      0.71      4611\n",
      "\n",
      "              precision    recall  f1-score   support\n",
      "\n",
      "       False       0.81      0.76      0.78      5180\n",
      "        True       0.77      0.83      0.80      5152\n",
      "\n",
      "    accuracy                           0.79     10332\n",
      "   macro avg       0.79      0.79      0.79     10332\n",
      "weighted avg       0.79      0.79      0.79     10332\n",
      "\n"
     ]
    }
   ],
   "source": [
    "X = df[\"text\"]\n",
    "vect = TfidfVectorizer(min_df=3, max_df=0.3).fit(X)\n",
    "X_vec = vect.transform(X)\n",
    "models = []\n",
    "for c in df.columns[:-1]:\n",
    "    y = df[c]\n",
    "    inds1 = np.where(y==True)[0]\n",
    "    inds2 = np.random.choice(np.where(y==False)[0], len(inds1))\n",
    "    X_sel = svstack([X_vec[inds1], X_vec[inds2]])\n",
    "    y_sel = np.array(y[inds1].tolist() + y[inds2].tolist())\n",
    "    X_train, X_test, y_train, y_test = train_test_split(X_sel, y_sel, shuffle=True, test_size=0.01)\n",
    "    clf = LogisticRegression(solver=\"liblinear\", penalty=\"l1\").fit(X_train, y_train)\n",
    "    y_pred = clf.predict(X_test)\n",
    "    print(classification_report(y_test, y_pred))\n",
    "    models.append((c, clf))"
   ]
  },
  {
   "cell_type": "code",
   "execution_count": 4,
   "id": "16b0762c",
   "metadata": {},
   "outputs": [],
   "source": [
    "import pickle\n",
    "with open(\"model.pkl\", \"wb\") as f:\n",
    "    pickle.dump((vect, tuple(models)), f)"
   ]
  },
  {
   "cell_type": "code",
   "execution_count": 5,
   "id": "25dc10ca",
   "metadata": {},
   "outputs": [
    {
     "name": "stdout",
     "output_type": "stream",
     "text": [
      "happy [0.71784105 0.01217588 0.24688099 0.07045632 0.27956653 0.18828918]\n",
      "sad [0.16119984 0.98623918 0.36672844 0.23190665 0.390584   0.53631942]\n",
      "disgust [0.41737333 0.65189701 0.914085   0.80733884 0.62794515 0.65786511]\n",
      "angry [0.42242915 0.287903   0.80176931 0.99917872 0.54210019 0.63226186]\n",
      "surprise [0.57379286 0.21409382 0.69020821 0.66950584 0.86880499 0.64293575]\n",
      "fear [0.35976251 0.52168146 0.82516612 0.40859211 0.89302586 0.89642556]\n"
     ]
    }
   ],
   "source": [
    "def tok(x):\n",
    "    return ' '.join([m.dictionary_form() for m in tokenizer_obj.tokenize(x, mode)]).strip()\n",
    "\n",
    "texts = [\n",
    "    \"ティファの技って面白いですね\",\n",
    "    \"エアリスが死んで悲しいよ\",\n",
    "    \"クラウドって自称ソルジャーとかキモいね\",\n",
    "    \"バレットって叫んでばっかでうるさくてムカつく\",\n",
    "    \"セフィロスチョー強くてびっくり\",\n",
    "    \"タークスとかいう闇組織こわ\",]\n",
    "v = vect.transform(tok(x) for x in texts)\n",
    "for n, m in models:\n",
    "    print(n, m.predict_proba(v)[:,1])"
   ]
  },
  {
   "cell_type": "code",
   "execution_count": null,
   "id": "9b429c53",
   "metadata": {},
   "outputs": [],
   "source": []
  }
 ],
 "metadata": {
  "kernelspec": {
   "display_name": "Python 3 (ipykernel)",
   "language": "python",
   "name": "python3"
  },
  "language_info": {
   "codemirror_mode": {
    "name": "ipython",
    "version": 3
   },
   "file_extension": ".py",
   "mimetype": "text/x-python",
   "name": "python",
   "nbconvert_exporter": "python",
   "pygments_lexer": "ipython3",
   "version": "3.10.6"
  }
 },
 "nbformat": 4,
 "nbformat_minor": 5
}
