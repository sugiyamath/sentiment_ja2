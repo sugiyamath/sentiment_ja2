{
 "cells": [
  {
   "cell_type": "code",
   "execution_count": 1,
   "id": "d5cbd051",
   "metadata": {},
   "outputs": [],
   "source": [
    "#!head -n 1 tweets.txt"
   ]
  },
  {
   "cell_type": "code",
   "execution_count": 2,
   "id": "c428b738",
   "metadata": {},
   "outputs": [],
   "source": [
    "#!cat gather.py"
   ]
  },
  {
   "cell_type": "code",
   "execution_count": 3,
   "id": "bc2b2e1f",
   "metadata": {},
   "outputs": [],
   "source": [
    "import re\n",
    "import numpy as np\n",
    "import pandas as pd\n",
    "from sudachipy import tokenizer\n",
    "from sudachipy import dictionary\n",
    "from scipy.sparse import vstack as svstack\n",
    "from sklearn.linear_model import LogisticRegression\n",
    "from sklearn.feature_extraction.text import TfidfVectorizer\n",
    "from sklearn.model_selection import train_test_split\n",
    "from sklearn.metrics import classification_report\n",
    "tokenizer_obj = dictionary.Dictionary().create()\n",
    "mode = tokenizer.Tokenizer.SplitMode.C"
   ]
  },
  {
   "cell_type": "code",
   "execution_count": 4,
   "id": "9b058c47",
   "metadata": {},
   "outputs": [],
   "source": [
    "data = []\n",
    "regs = [r\"[@#].+? \", r\"http.+? \"]\n",
    "labels = list(zip(\"happy,sad,disgust,angry,surprise,fear\".split(\",\"), \"😊 😢 🤢 😠 😮 😨\".split(\" \")))\n",
    "with open(\"tweets.txt\", \"r\") as f:\n",
    "    for line in f:\n",
    "        line = line.split(\"[:::]\")[0]\n",
    "        x = ' '.join(line.strip().split()[5:])+\" \"\n",
    "        for r in regs:\n",
    "            x = re.sub(r, ' ', x)\n",
    "        x = ' '.join([m.dictionary_form() for m in tokenizer_obj.tokenize(x, mode)]).strip()\n",
    "        y = {lab[0]: (lab[1] in x) for lab in labels}\n",
    "        if \"😐\" not in x and not any(a for _, a in y.items()):\n",
    "            continue\n",
    "        y[\"text\"] = x\n",
    "        data.append(y)\n",
    "df = pd.DataFrame(data)\n",
    "del data\n",
    "#df.head()"
   ]
  },
  {
   "cell_type": "code",
   "execution_count": 6,
   "id": "20275732",
   "metadata": {},
   "outputs": [
    {
     "name": "stdout",
     "output_type": "stream",
     "text": [
      "              precision    recall  f1-score   support\n",
      "\n",
      "       False       0.79      0.81      0.80    111690\n",
      "        True       0.80      0.78      0.79    111648\n",
      "\n",
      "    accuracy                           0.80    223338\n",
      "   macro avg       0.80      0.80      0.80    223338\n",
      "weighted avg       0.80      0.80      0.80    223338\n",
      "\n",
      "              precision    recall  f1-score   support\n",
      "\n",
      "       False       0.76      0.78      0.77     23326\n",
      "        True       0.78      0.76      0.77     23505\n",
      "\n",
      "    accuracy                           0.77     46831\n",
      "   macro avg       0.77      0.77      0.77     46831\n",
      "weighted avg       0.77      0.77      0.77     46831\n",
      "\n",
      "              precision    recall  f1-score   support\n",
      "\n",
      "       False       0.79      0.74      0.77       720\n",
      "        True       0.76      0.81      0.78       723\n",
      "\n",
      "    accuracy                           0.77      1443\n",
      "   macro avg       0.78      0.77      0.77      1443\n",
      "weighted avg       0.78      0.77      0.77      1443\n",
      "\n",
      "              precision    recall  f1-score   support\n",
      "\n",
      "       False       0.83      0.78      0.81      1966\n",
      "        True       0.80      0.85      0.82      1998\n",
      "\n",
      "    accuracy                           0.82      3964\n",
      "   macro avg       0.82      0.82      0.82      3964\n",
      "weighted avg       0.82      0.82      0.82      3964\n",
      "\n",
      "              precision    recall  f1-score   support\n",
      "\n",
      "       False       0.72      0.65      0.68      2239\n",
      "        True       0.70      0.76      0.73      2372\n",
      "\n",
      "    accuracy                           0.71      4611\n",
      "   macro avg       0.71      0.70      0.70      4611\n",
      "weighted avg       0.71      0.71      0.70      4611\n",
      "\n",
      "              precision    recall  f1-score   support\n",
      "\n",
      "       False       0.81      0.76      0.78      5227\n",
      "        True       0.77      0.82      0.79      5105\n",
      "\n",
      "    accuracy                           0.79     10332\n",
      "   macro avg       0.79      0.79      0.79     10332\n",
      "weighted avg       0.79      0.79      0.79     10332\n",
      "\n"
     ]
    }
   ],
   "source": [
    "X = df[\"text\"]\n",
    "vect = TfidfVectorizer(min_df=3, max_df=0.3).fit(X)\n",
    "X_vec = vect.transform(X)\n",
    "models = []\n",
    "for c in df.columns[:-1]:\n",
    "    y = df[c]\n",
    "    inds1 = np.where(y==True)[0]\n",
    "    inds2 = np.random.choice(np.where(y==False)[0], len(inds1))\n",
    "    X_sel = svstack([X_vec[inds1], X_vec[inds2]])\n",
    "    y_sel = np.array(y[inds1].tolist() + y[inds2].tolist())\n",
    "    X_train, X_test, y_train, y_test = train_test_split(X_sel, y_sel, shuffle=True, test_size=0.01)\n",
    "    clf = LogisticRegression(solver=\"liblinear\", penalty=\"l1\").fit(X_train, y_train)\n",
    "    y_pred = clf.predict(X_test)\n",
    "    print(classification_report(y_test, y_pred))\n",
    "    models.append((c, clf))"
   ]
  },
  {
   "cell_type": "code",
   "execution_count": 11,
   "id": "16b0762c",
   "metadata": {},
   "outputs": [],
   "source": [
    "import pickle\n",
    "with open(\"model.pkl\", \"wb\") as f:\n",
    "    pickle.dump((vect, tuple(models)), f)"
   ]
  },
  {
   "cell_type": "code",
   "execution_count": 18,
   "id": "25dc10ca",
   "metadata": {},
   "outputs": [
    {
     "name": "stdout",
     "output_type": "stream",
     "text": [
      "happy [0.4149349  0.01118172 0.26394603 0.08769217 0.27527495 0.17970833]\n",
      "sad [0.35991318 0.98267576 0.38108967 0.25645773 0.56397691 0.50454481]\n",
      "disgust [0.59940007 0.64030534 0.95440502 0.85891457 0.59698875 0.69558706]\n",
      "angry [0.63244043 0.32554099 0.75003635 0.99825019 0.57824366 0.59089631]\n",
      "surprise [0.73755418 0.23817178 0.71688511 0.68124337 0.90511871 0.68201801]\n",
      "fear [0.60314765 0.56247    0.8494008  0.39528605 0.8639368  0.87915443]\n"
     ]
    }
   ],
   "source": [
    "def tok(x):\n",
    "    return ' '.join([m.dictionary_form() for m in tokenizer_obj.tokenize(x, mode)]).strip()\n",
    "\n",
    "texts = [\n",
    "    \"ティファってチョーかわいいなー\",\n",
    "    \"エアリスが死んで悲しいよ\",\n",
    "    \"クラウドって自称ソルジャーとかキモいね\",\n",
    "    \"バレットって叫んでばっかでうるさくてムカつく\",\n",
    "    \"セフィロスチョー強くてびっくり\",\n",
    "    \"タークスとかいう闇組織こわ\",]\n",
    "v = vect.transform(tok(x) for x in texts)\n",
    "for n, m in models:\n",
    "    print(n, m.predict_proba(v)[:,1])"
   ]
  },
  {
   "cell_type": "code",
   "execution_count": null,
   "id": "9b429c53",
   "metadata": {},
   "outputs": [],
   "source": []
  }
 ],
 "metadata": {
  "kernelspec": {
   "display_name": "Python 3 (ipykernel)",
   "language": "python",
   "name": "python3"
  },
  "language_info": {
   "codemirror_mode": {
    "name": "ipython",
    "version": 3
   },
   "file_extension": ".py",
   "mimetype": "text/x-python",
   "name": "python",
   "nbconvert_exporter": "python",
   "pygments_lexer": "ipython3",
   "version": "3.10.6"
  }
 },
 "nbformat": 4,
 "nbformat_minor": 5
}
